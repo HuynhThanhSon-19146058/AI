{
  "cells": [
    {
      "cell_type": "markdown",
      "metadata": {
        "id": "6GJuynhSlnFt"
      },
      "source": [
        "## **1. Khai báo thư viện cần sử dụng:**"
      ]
    },
    {
      "cell_type": "code",
      "execution_count": null,
      "metadata": {
        "id": "cjfcMYMzBGPg"
      },
      "outputs": [],
      "source": [
        "import tensorflow as tf\n",
        "from tensorflow import keras\n",
        "import matplotlib.pyplot as plt\n",
        "import numpy as np"
      ]
    },
    {
      "cell_type": "markdown",
      "metadata": {
        "id": "loLJ0_uLmY7V"
      },
      "source": [
        "# **2. Kết nối với Google Drive để đọc và lưu dữ liệu:**"
      ]
    },
    {
      "cell_type": "code",
      "execution_count": null,
      "metadata": {
        "colab": {
          "base_uri": "https://localhost:8080/"
        },
        "id": "XOBaEg19BRZ9",
        "outputId": "a15ab229-33d9-4c9d-bd0b-bb3130f311a9"
      },
      "outputs": [
        {
          "output_type": "stream",
          "name": "stdout",
          "text": [
            "Mounted at /content/drive/\n"
          ]
        }
      ],
      "source": [
        "from google.colab import drive\n",
        "drive.mount('/content/drive/')"
      ]
    },
    {
      "cell_type": "markdown",
      "metadata": {
        "id": "4ZtGGLNcm4Eh"
      },
      "source": [
        "# **3. Khai báo đường dẫn thư mục Train, Validation chứa ảnh dữ liệu:**"
      ]
    },
    {
      "cell_type": "code",
      "execution_count": null,
      "metadata": {
        "id": "YIooHPXhBgDJ"
      },
      "outputs": [],
      "source": [
        "import os\n",
        "train_image_files_path = \"/content/drive/MyDrive/AI/Nhận diện động vật/Train\"\n",
        "valid_image_files_path = \"/content/drive/MyDrive/AI/Nhận diện động vật/Validation\""
      ]
    },
    {
      "cell_type": "markdown",
      "metadata": {
        "id": "WYP96ehSm0Yg"
      },
      "source": [
        "# **4. Gán nhãn dữ liệu:**"
      ]
    },
    {
      "cell_type": "code",
      "execution_count": null,
      "metadata": {
        "id": "2PezT6eMBp_j"
      },
      "outputs": [],
      "source": [
        "label=['Bướm','Cá bảy màu','Cào cào','Chó','Chuồn chuồn','Cóc','Gà','Mèo','Sóc đất','Thằn lằn']"
      ]
    },
    {
      "cell_type": "markdown",
      "metadata": {
        "id": "TM2BpTlknpso"
      },
      "source": [
        "# **5. Tiền xử lý dữ liệu ảnh với ImageDataGenerator:**"
      ]
    },
    {
      "cell_type": "code",
      "execution_count": null,
      "metadata": {
        "id": "MbR1rYaQCLvo"
      },
      "outputs": [],
      "source": [
        "from tensorflow.keras.preprocessing.image import ImageDataGenerator\n",
        "train_data_gen = ImageDataGenerator(rescale=1/255)  \n",
        "validation_data_gen = ImageDataGenerator(rescale=1/255)"
      ]
    },
    {
      "cell_type": "markdown",
      "metadata": {
        "id": "iOUcVomfnzUY"
      },
      "source": [
        "# **6. Đọc dữ liệu Train và Validation:**"
      ]
    },
    {
      "cell_type": "code",
      "execution_count": null,
      "metadata": {
        "colab": {
          "base_uri": "https://localhost:8080/"
        },
        "id": "WUQbxibKCO5O",
        "outputId": "3df4e730-50bb-4430-8e28-eced0c3bd713"
      },
      "outputs": [
        {
          "output_type": "stream",
          "name": "stdout",
          "text": [
            "Found 700 images belonging to 10 classes.\n",
            "Found 200 images belonging to 10 classes.\n"
          ]
        }
      ],
      "source": [
        "train_generator = train_data_gen.flow_from_directory(\n",
        "    train_image_files_path,                                         \n",
        "    target_size=(200, 200),           \n",
        "    class_mode='categorical')      \n",
        "\n",
        "validation_generator = validation_data_gen.flow_from_directory(\n",
        "    valid_image_files_path,\n",
        "    target_size=(200, 200),               \n",
        "    class_mode='categorical')"
      ]
    },
    {
      "cell_type": "markdown",
      "metadata": {
        "id": "IPBVS1lPnyM4"
      },
      "source": [
        "# **7. Xây dựng mô hình:**"
      ]
    },
    {
      "cell_type": "code",
      "execution_count": null,
      "metadata": {
        "id": "YL2uN9xkC0_-"
      },
      "outputs": [],
      "source": [
        "from keras.models import Sequential\n",
        "from keras.layers import Dense, Dropout, Conv2D, MaxPooling2D, Flatten\n",
        "\n",
        "model=tf.keras.models.Sequential()\n",
        "\n",
        "# Lớp CNN 1:\n",
        "model.add(Conv2D(32,(3,3), activation='relu',input_shape=(200,200,3)))\n",
        "model.add(MaxPooling2D(2,2))\n",
        "\n",
        "# Lớp CNN 2:\n",
        "model.add(Conv2D(64,(3,3), activation='relu'))\n",
        "model.add(MaxPooling2D(2,2))\n",
        "\n",
        "# Lớp CNN 3:\n",
        "model.add(Conv2D(128,(3,3), activation='relu'))\n",
        "model.add(MaxPooling2D(2,2))  \n",
        "\n",
        "# Chuyển dữ liệu đầu ra của mạng CNN từ mảng 2 chiều về mảng 1 chiều:\n",
        "model.add(Flatten()) \n",
        "# Lớp ẩn:\n",
        "model.add(Dense(512, activation=tf.nn.relu))\n",
        "# Lớp output:\n",
        "model.add(Dense(10, activation=tf.nn.softmax)) # 4 đầu ra. "
      ]
    },
    {
      "cell_type": "markdown",
      "metadata": {
        "id": "23dFOHSFouSJ"
      },
      "source": [
        "# **8. Thiết lập các tham số để huấn luyện mô hình:**\n",
        "\n",
        "\n"
      ]
    },
    {
      "cell_type": "code",
      "execution_count": null,
      "metadata": {
        "id": "dO4h_GVxC8ym"
      },
      "outputs": [],
      "source": [
        "from tensorflow.keras.optimizers import Adam\n",
        "model.compile(optimizer=Adam(learning_rate=0.001),  \n",
        "              loss='categorical_crossentropy', \n",
        "              metrics=['acc'])"
      ]
    },
    {
      "cell_type": "markdown",
      "metadata": {
        "id": "-kptsv6Moy4K"
      },
      "source": [
        "# **9. Huấn luyện mô hình:**"
      ]
    },
    {
      "cell_type": "code",
      "execution_count": null,
      "metadata": {
        "colab": {
          "base_uri": "https://localhost:8080/"
        },
        "id": "homXm0DtDA6W",
        "outputId": "3b1f9552-7c9a-4ce0-dde5-da9113d970fe"
      },
      "outputs": [
        {
          "output_type": "stream",
          "name": "stdout",
          "text": [
            "Epoch 1/100\n",
            "3/3 [==============================] - 83s 34s/step - loss: 5.6479 - acc: 0.1146 - val_loss: 3.4894 - val_acc: 0.1042\n",
            "Epoch 2/100\n",
            "3/3 [==============================] - 54s 22s/step - loss: 2.6549 - acc: 0.1042 - val_loss: 2.2807 - val_acc: 0.2812\n",
            "Epoch 3/100\n",
            "3/3 [==============================] - 43s 16s/step - loss: 2.2205 - acc: 0.2188 - val_loss: 2.1929 - val_acc: 0.1979\n",
            "Epoch 4/100\n",
            "3/3 [==============================] - 37s 14s/step - loss: 2.1180 - acc: 0.1771 - val_loss: 2.1112 - val_acc: 0.3021\n",
            "Epoch 5/100\n",
            "3/3 [==============================] - 35s 12s/step - loss: 1.9651 - acc: 0.3958 - val_loss: 1.9483 - val_acc: 0.3854\n",
            "Epoch 6/100\n",
            "3/3 [==============================] - 33s 13s/step - loss: 1.7900 - acc: 0.4583 - val_loss: 1.9923 - val_acc: 0.4167\n",
            "Epoch 7/100\n",
            "3/3 [==============================] - 34s 12s/step - loss: 1.8408 - acc: 0.3125 - val_loss: 1.7930 - val_acc: 0.4167\n",
            "Epoch 8/100\n",
            "3/3 [==============================] - 31s 12s/step - loss: 1.6594 - acc: 0.4565 - val_loss: 2.0528 - val_acc: 0.3854\n",
            "Epoch 9/100\n",
            "3/3 [==============================] - 30s 12s/step - loss: 1.7947 - acc: 0.3542 - val_loss: 1.9705 - val_acc: 0.3021\n",
            "Epoch 10/100\n",
            "3/3 [==============================] - 29s 11s/step - loss: 1.7222 - acc: 0.4271 - val_loss: 1.8558 - val_acc: 0.3854\n",
            "Epoch 11/100\n",
            "3/3 [==============================] - 30s 12s/step - loss: 1.6717 - acc: 0.4375 - val_loss: 1.8333 - val_acc: 0.4792\n",
            "Epoch 12/100\n",
            "3/3 [==============================] - 29s 10s/step - loss: 1.7768 - acc: 0.4896 - val_loss: 1.9064 - val_acc: 0.3854\n",
            "Epoch 13/100\n",
            "3/3 [==============================] - 31s 12s/step - loss: 1.3921 - acc: 0.5870 - val_loss: 1.5791 - val_acc: 0.4792\n",
            "Epoch 14/100\n",
            "3/3 [==============================] - 29s 11s/step - loss: 1.1490 - acc: 0.5938 - val_loss: 1.5580 - val_acc: 0.4896\n",
            "Epoch 15/100\n",
            "3/3 [==============================] - 27s 10s/step - loss: 1.1211 - acc: 0.6875 - val_loss: 1.2971 - val_acc: 0.5729\n",
            "Epoch 16/100\n",
            "3/3 [==============================] - 29s 11s/step - loss: 1.2773 - acc: 0.6146 - val_loss: 1.3118 - val_acc: 0.6146\n",
            "Epoch 17/100\n",
            "3/3 [==============================] - 28s 11s/step - loss: 1.0867 - acc: 0.6771 - val_loss: 1.3027 - val_acc: 0.5417\n",
            "Epoch 18/100\n",
            "3/3 [==============================] - 28s 10s/step - loss: 0.9321 - acc: 0.6771 - val_loss: 1.2209 - val_acc: 0.5833\n",
            "Epoch 19/100\n",
            "3/3 [==============================] - 30s 12s/step - loss: 0.7123 - acc: 0.8125 - val_loss: 1.3264 - val_acc: 0.5104\n",
            "Epoch 20/100\n",
            "3/3 [==============================] - 30s 12s/step - loss: 0.8727 - acc: 0.7500 - val_loss: 1.6546 - val_acc: 0.4896\n",
            "Epoch 21/100\n",
            "3/3 [==============================] - 27s 11s/step - loss: 0.8427 - acc: 0.6771 - val_loss: 1.2668 - val_acc: 0.5938\n",
            "Epoch 22/100\n",
            "3/3 [==============================] - 26s 10s/step - loss: 0.9570 - acc: 0.6875 - val_loss: 1.3806 - val_acc: 0.6042\n",
            "Epoch 23/100\n",
            "3/3 [==============================] - 27s 10s/step - loss: 0.7510 - acc: 0.7292 - val_loss: 1.2502 - val_acc: 0.6354\n",
            "Epoch 24/100\n",
            "3/3 [==============================] - 29s 12s/step - loss: 0.7307 - acc: 0.8261 - val_loss: 1.4304 - val_acc: 0.5938\n",
            "Epoch 25/100\n",
            "3/3 [==============================] - 31s 12s/step - loss: 0.8709 - acc: 0.7917 - val_loss: 1.3284 - val_acc: 0.6250\n",
            "Epoch 26/100\n",
            "3/3 [==============================] - 29s 11s/step - loss: 0.6625 - acc: 0.7812 - val_loss: 1.5099 - val_acc: 0.5833\n",
            "Epoch 27/100\n",
            "3/3 [==============================] - 27s 11s/step - loss: 0.5298 - acc: 0.8125 - val_loss: 1.1817 - val_acc: 0.6250\n",
            "Epoch 28/100\n",
            "3/3 [==============================] - 31s 12s/step - loss: 0.6827 - acc: 0.7708 - val_loss: 1.3120 - val_acc: 0.6771\n",
            "Epoch 29/100\n",
            "3/3 [==============================] - 29s 11s/step - loss: 0.5433 - acc: 0.8333 - val_loss: 1.4091 - val_acc: 0.6354\n",
            "Epoch 30/100\n",
            "3/3 [==============================] - 28s 11s/step - loss: 0.4336 - acc: 0.8854 - val_loss: 1.2574 - val_acc: 0.7188\n",
            "Epoch 31/100\n",
            "3/3 [==============================] - 27s 11s/step - loss: 0.3880 - acc: 0.8958 - val_loss: 1.2527 - val_acc: 0.7188\n",
            "Epoch 32/100\n",
            "3/3 [==============================] - 27s 11s/step - loss: 0.2858 - acc: 0.9271 - val_loss: 1.3445 - val_acc: 0.6979\n",
            "Epoch 33/100\n",
            "3/3 [==============================] - 26s 10s/step - loss: 0.5506 - acc: 0.9167 - val_loss: 1.4262 - val_acc: 0.6354\n",
            "Epoch 34/100\n",
            "3/3 [==============================] - 31s 13s/step - loss: 0.4810 - acc: 0.8587 - val_loss: 1.0008 - val_acc: 0.7396\n",
            "Epoch 35/100\n",
            "3/3 [==============================] - 27s 11s/step - loss: 0.4070 - acc: 0.8913 - val_loss: 1.4299 - val_acc: 0.5938\n",
            "Epoch 36/100\n",
            "3/3 [==============================] - 28s 11s/step - loss: 0.4830 - acc: 0.8646 - val_loss: 1.1432 - val_acc: 0.6458\n",
            "Epoch 37/100\n",
            "3/3 [==============================] - 28s 11s/step - loss: 0.3464 - acc: 0.8958 - val_loss: 1.2926 - val_acc: 0.6562\n",
            "Epoch 38/100\n",
            "3/3 [==============================] - 35s 15s/step - loss: 0.3979 - acc: 0.8958 - val_loss: 1.0308 - val_acc: 0.6979\n",
            "Epoch 39/100\n",
            "3/3 [==============================] - 26s 10s/step - loss: 0.3281 - acc: 0.9130 - val_loss: 1.1629 - val_acc: 0.6875\n",
            "Epoch 40/100\n",
            "3/3 [==============================] - 34s 14s/step - loss: 0.3103 - acc: 0.9271 - val_loss: 1.2933 - val_acc: 0.6667\n",
            "Epoch 41/100\n",
            "3/3 [==============================] - 26s 10s/step - loss: 0.2918 - acc: 0.9239 - val_loss: 1.2463 - val_acc: 0.6042\n",
            "Epoch 42/100\n",
            "3/3 [==============================] - 29s 11s/step - loss: 0.2562 - acc: 0.9271 - val_loss: 1.3971 - val_acc: 0.6562\n",
            "Epoch 43/100\n",
            "3/3 [==============================] - 32s 12s/step - loss: 0.1565 - acc: 0.9479 - val_loss: 1.3472 - val_acc: 0.6042\n",
            "Epoch 44/100\n",
            "3/3 [==============================] - 27s 11s/step - loss: 0.2598 - acc: 0.9375 - val_loss: 1.0375 - val_acc: 0.7396\n",
            "Epoch 45/100\n",
            "3/3 [==============================] - 30s 12s/step - loss: 0.3736 - acc: 0.8913 - val_loss: 1.2487 - val_acc: 0.7083\n",
            "Epoch 46/100\n",
            "3/3 [==============================] - 26s 10s/step - loss: 0.2304 - acc: 0.9348 - val_loss: 1.3157 - val_acc: 0.6146\n",
            "Epoch 47/100\n",
            "3/3 [==============================] - 28s 11s/step - loss: 0.3325 - acc: 0.8913 - val_loss: 1.2240 - val_acc: 0.6667\n",
            "Epoch 48/100\n",
            "3/3 [==============================] - 28s 11s/step - loss: 0.3113 - acc: 0.9167 - val_loss: 1.4836 - val_acc: 0.6042\n",
            "Epoch 49/100\n",
            "3/3 [==============================] - 26s 10s/step - loss: 0.2459 - acc: 0.9022 - val_loss: 1.6167 - val_acc: 0.6146\n",
            "Epoch 50/100\n",
            "3/3 [==============================] - 28s 11s/step - loss: 0.1954 - acc: 0.9479 - val_loss: 1.0872 - val_acc: 0.7604\n",
            "Epoch 51/100\n",
            "3/3 [==============================] - 29s 12s/step - loss: 0.1058 - acc: 0.9583 - val_loss: 1.3087 - val_acc: 0.6875\n",
            "Epoch 52/100\n",
            "3/3 [==============================] - 28s 11s/step - loss: 0.1523 - acc: 0.9583 - val_loss: 1.5032 - val_acc: 0.6667\n",
            "Epoch 53/100\n",
            "3/3 [==============================] - 28s 11s/step - loss: 0.0787 - acc: 0.9688 - val_loss: 1.6255 - val_acc: 0.6250\n",
            "Epoch 54/100\n",
            "3/3 [==============================] - 27s 11s/step - loss: 0.2051 - acc: 0.9271 - val_loss: 1.6698 - val_acc: 0.6562\n",
            "Epoch 55/100\n",
            "3/3 [==============================] - 28s 11s/step - loss: 0.1059 - acc: 0.9792 - val_loss: 1.2315 - val_acc: 0.6875\n",
            "Epoch 56/100\n",
            "3/3 [==============================] - 26s 11s/step - loss: 0.1089 - acc: 0.9783 - val_loss: 1.5874 - val_acc: 0.6562\n",
            "Epoch 57/100\n",
            "3/3 [==============================] - 26s 10s/step - loss: 0.1580 - acc: 0.9479 - val_loss: 1.3324 - val_acc: 0.6250\n",
            "Epoch 58/100\n",
            "3/3 [==============================] - 28s 12s/step - loss: 0.1210 - acc: 0.9688 - val_loss: 1.4221 - val_acc: 0.6562\n",
            "Epoch 59/100\n",
            "3/3 [==============================] - 27s 10s/step - loss: 0.1744 - acc: 0.9583 - val_loss: 1.7151 - val_acc: 0.5833\n",
            "Epoch 60/100\n",
            "3/3 [==============================] - 28s 11s/step - loss: 0.0835 - acc: 0.9688 - val_loss: 1.6906 - val_acc: 0.6667\n",
            "Epoch 61/100\n",
            "3/3 [==============================] - 26s 11s/step - loss: 0.0499 - acc: 0.9783 - val_loss: 1.2107 - val_acc: 0.7083\n",
            "Epoch 62/100\n",
            "3/3 [==============================] - 28s 11s/step - loss: 0.1444 - acc: 0.9688 - val_loss: 0.9013 - val_acc: 0.7604\n",
            "Epoch 63/100\n",
            "3/3 [==============================] - 26s 10s/step - loss: 0.0981 - acc: 0.9688 - val_loss: 1.3026 - val_acc: 0.7083\n",
            "Epoch 64/100\n",
            "3/3 [==============================] - 33s 14s/step - loss: 0.2058 - acc: 0.9565 - val_loss: 1.6777 - val_acc: 0.6667\n",
            "Epoch 65/100\n",
            "3/3 [==============================] - 28s 11s/step - loss: 0.0689 - acc: 0.9896 - val_loss: 1.5011 - val_acc: 0.6562\n",
            "Epoch 66/100\n",
            "3/3 [==============================] - 27s 10s/step - loss: 0.0750 - acc: 0.9792 - val_loss: 1.4710 - val_acc: 0.6979\n",
            "Epoch 67/100\n",
            "3/3 [==============================] - 27s 11s/step - loss: 0.0929 - acc: 0.9792 - val_loss: 1.1791 - val_acc: 0.7292\n",
            "Epoch 68/100\n",
            "3/3 [==============================] - 26s 10s/step - loss: 0.0633 - acc: 1.0000 - val_loss: 1.2232 - val_acc: 0.6979\n",
            "Epoch 69/100\n",
            "3/3 [==============================] - 29s 11s/step - loss: 0.0765 - acc: 0.9688 - val_loss: 1.3151 - val_acc: 0.7188\n",
            "Epoch 70/100\n",
            "3/3 [==============================] - 26s 10s/step - loss: 0.0631 - acc: 0.9783 - val_loss: 1.7948 - val_acc: 0.6771\n",
            "Epoch 71/100\n",
            "3/3 [==============================] - 29s 12s/step - loss: 0.0235 - acc: 1.0000 - val_loss: 1.4134 - val_acc: 0.7396\n",
            "Epoch 72/100\n",
            "3/3 [==============================] - 28s 11s/step - loss: 0.0080 - acc: 1.0000 - val_loss: 2.0156 - val_acc: 0.6458\n",
            "Epoch 73/100\n",
            "3/3 [==============================] - 31s 12s/step - loss: 0.0491 - acc: 0.9896 - val_loss: 1.8501 - val_acc: 0.6458\n",
            "Epoch 74/100\n",
            "3/3 [==============================] - 27s 10s/step - loss: 0.0734 - acc: 0.9792 - val_loss: 1.4615 - val_acc: 0.7292\n",
            "Epoch 75/100\n",
            "3/3 [==============================] - 25s 10s/step - loss: 0.0120 - acc: 1.0000 - val_loss: 1.2654 - val_acc: 0.7188\n",
            "Epoch 76/100\n",
            "3/3 [==============================] - 27s 11s/step - loss: 0.0300 - acc: 0.9896 - val_loss: 1.3844 - val_acc: 0.6771\n",
            "Epoch 77/100\n",
            "3/3 [==============================] - 28s 11s/step - loss: 0.0456 - acc: 0.9896 - val_loss: 1.1209 - val_acc: 0.7188\n",
            "Epoch 78/100\n",
            "3/3 [==============================] - 27s 10s/step - loss: 0.0312 - acc: 0.9792 - val_loss: 1.1661 - val_acc: 0.7604\n",
            "Epoch 79/100\n",
            "3/3 [==============================] - 27s 11s/step - loss: 0.0498 - acc: 0.9792 - val_loss: 1.4662 - val_acc: 0.6979\n",
            "Epoch 80/100\n",
            "3/3 [==============================] - 28s 11s/step - loss: 0.0090 - acc: 1.0000 - val_loss: 1.9507 - val_acc: 0.6979\n",
            "Epoch 81/100\n",
            "3/3 [==============================] - 33s 13s/step - loss: 0.0176 - acc: 1.0000 - val_loss: 1.8796 - val_acc: 0.6771\n",
            "Epoch 82/100\n",
            "3/3 [==============================] - 27s 11s/step - loss: 0.0531 - acc: 0.9792 - val_loss: 2.0330 - val_acc: 0.6146\n",
            "Epoch 83/100\n",
            "3/3 [==============================] - 29s 11s/step - loss: 0.0205 - acc: 1.0000 - val_loss: 1.6051 - val_acc: 0.7188\n",
            "Epoch 84/100\n",
            "3/3 [==============================] - 27s 11s/step - loss: 0.0658 - acc: 0.9896 - val_loss: 1.4424 - val_acc: 0.7292\n",
            "Epoch 85/100\n",
            "3/3 [==============================] - 26s 10s/step - loss: 0.0303 - acc: 1.0000 - val_loss: 1.3179 - val_acc: 0.6979\n",
            "Epoch 86/100\n",
            "3/3 [==============================] - 30s 12s/step - loss: 0.0484 - acc: 0.9896 - val_loss: 1.3229 - val_acc: 0.7083\n",
            "Epoch 87/100\n",
            "3/3 [==============================] - 29s 11s/step - loss: 0.0207 - acc: 1.0000 - val_loss: 1.5975 - val_acc: 0.7188\n",
            "Epoch 88/100\n",
            "3/3 [==============================] - 29s 12s/step - loss: 0.0312 - acc: 1.0000 - val_loss: 1.9658 - val_acc: 0.6562\n",
            "Epoch 89/100\n",
            "3/3 [==============================] - 28s 11s/step - loss: 0.0236 - acc: 0.9896 - val_loss: 1.5538 - val_acc: 0.6771\n",
            "Epoch 90/100\n",
            "3/3 [==============================] - 30s 12s/step - loss: 0.0048 - acc: 1.0000 - val_loss: 1.6748 - val_acc: 0.6979\n",
            "Epoch 91/100\n",
            "3/3 [==============================] - 26s 10s/step - loss: 0.0021 - acc: 1.0000 - val_loss: 1.6799 - val_acc: 0.7083\n",
            "Epoch 92/100\n",
            "3/3 [==============================] - 30s 12s/step - loss: 0.0083 - acc: 1.0000 - val_loss: 1.4285 - val_acc: 0.7708\n",
            "Epoch 93/100\n",
            "3/3 [==============================] - 34s 14s/step - loss: 0.0188 - acc: 0.9896 - val_loss: 1.5071 - val_acc: 0.7708\n",
            "Epoch 94/100\n",
            "3/3 [==============================] - 27s 11s/step - loss: 0.0034 - acc: 1.0000 - val_loss: 1.5910 - val_acc: 0.7500\n",
            "Epoch 95/100\n",
            "3/3 [==============================] - 28s 11s/step - loss: 0.0266 - acc: 0.9896 - val_loss: 1.7869 - val_acc: 0.7083\n",
            "Epoch 96/100\n",
            "3/3 [==============================] - 30s 12s/step - loss: 0.0050 - acc: 1.0000 - val_loss: 1.1771 - val_acc: 0.7396\n",
            "Epoch 97/100\n",
            "3/3 [==============================] - 28s 11s/step - loss: 0.0010 - acc: 1.0000 - val_loss: 1.9417 - val_acc: 0.6562\n",
            "Epoch 98/100\n",
            "3/3 [==============================] - 29s 11s/step - loss: 0.0056 - acc: 1.0000 - val_loss: 1.7805 - val_acc: 0.6875\n",
            "Epoch 99/100\n",
            "3/3 [==============================] - 28s 11s/step - loss: 0.0010 - acc: 1.0000 - val_loss: 1.6306 - val_acc: 0.6667\n",
            "Epoch 100/100\n",
            "3/3 [==============================] - 26s 10s/step - loss: 0.0039 - acc: 1.0000 - val_loss: 1.6405 - val_acc: 0.7500\n"
          ]
        }
      ],
      "source": [
        "EPOCHS=100  \n",
        "history=model.fit(\n",
        "    train_generator,\n",
        "    steps_per_epoch=3,\n",
        "    epochs=EPOCHS,\n",
        "    verbose=1,\n",
        "    validation_data = validation_generator,\n",
        "    validation_steps=3)"
      ]
    },
    {
      "cell_type": "markdown",
      "metadata": {
        "id": "Iql5VovNoxyp"
      },
      "source": [
        "## **10. Sử dụng mô hình dự đoán:**"
      ]
    },
    {
      "cell_type": "code",
      "execution_count": null,
      "metadata": {
        "id": "KhVArqQfDKdZ",
        "colab": {
          "resources": {
            "http://localhost:8080/nbextensions/google.colab/files.js": {
              "data": "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",
              "ok": true,
              "headers": [
                [
                  "content-type",
                  "application/javascript"
                ]
              ],
              "status": 200,
              "status_text": ""
            }
          },
          "base_uri": "https://localhost:8080/",
          "height": 360
        },
        "outputId": "90a8cf87-6358-4467-b8f6-23919a82d363"
      },
      "outputs": [
        {
          "output_type": "display_data",
          "data": {
            "text/plain": [
              "<IPython.core.display.HTML object>"
            ],
            "text/html": [
              "\n",
              "     <input type=\"file\" id=\"files-723a6ef8-73bf-4a51-8e4c-929d0e96feec\" name=\"files[]\" multiple disabled\n",
              "        style=\"border:none\" />\n",
              "     <output id=\"result-723a6ef8-73bf-4a51-8e4c-929d0e96feec\">\n",
              "      Upload widget is only available when the cell has been executed in the\n",
              "      current browser session. Please rerun this cell to enable.\n",
              "      </output>\n",
              "      <script src=\"/nbextensions/google.colab/files.js\"></script> "
            ]
          },
          "metadata": {}
        },
        {
          "output_type": "stream",
          "name": "stdout",
          "text": [
            "Saving Thanlan (9).jpg to Thanlan (9).jpg\n",
            "[[0. 0. 0. 0. 0. 0. 0. 0. 0. 1.]]\n",
            "Đây là con:   Thằn lằn\n"
          ]
        },
        {
          "output_type": "display_data",
          "data": {
            "text/plain": [
              "<Figure size 432x288 with 1 Axes>"
            ],
            "image/png": "[encoded data removed]"
          },
          "metadata": {
            "needs_background": "light"
          }
        }
      ],
      "source": [
        "from google.colab import files\n",
        "from keras.preprocessing import image\n",
        "%matplotlib inline\n",
        "import matplotlib.pyplot as plt\n",
        "import matplotlib.image as mpimg\n",
        "\n",
        "uploaded=files.upload()\n",
        "\n",
        "for fn in uploaded.keys():\n",
        "  path='/content/'+fn\n",
        "  #In ảnh đọc được:\n",
        "  plt.imshow(mpimg.imread(path))\n",
        "\n",
        "  img=image.load_img(path,target_size=(200,200))\n",
        "  x=image.img_to_array(img)\n",
        "  x=np.expand_dims(x,axis=0)\n",
        "  images=np.vstack([x])\n",
        "  y_predict = model.predict(images,batch_size=10)\n",
        "  print(y_predict)\n",
        "  print('Đây là con:  ', label[np.argmax(y_predict)])"
      ]
    }
  ],
  "metadata": {
    "colab": {
      "collapsed_sections": [],
      "name": "Nhận diện động vật.ipynb",
      "provenance": []
    },
    "kernelspec": {
      "display_name": "Python 3",
      "name": "python3"
    },
    "language_info": {
      "name": "python"
    }
  },
  "nbformat": 4,
  "nbformat_minor": 0
}
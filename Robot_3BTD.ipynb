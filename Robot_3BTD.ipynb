{
  "cells": [
    {
      "cell_type": "code",
      "execution_count": 3,
      "metadata": {
        "id": "oYUcqzUsAG1i"
      },
      "outputs": [],
      "source": [
        "import keras\n",
        "import numpy as np\n",
        "import matplotlib.pyplot as plt\n",
        "from keras.layers import Dense, Activation, Dropout, BatchNormalization, LSTM\n",
        "from keras.models import Sequential\n",
        "from tensorflow.keras.utils import to_categorical\n",
        "from tensorflow.keras.optimizers import RMSprop\n",
        "from skimage import color\n",
        "from keras.callbacks import EarlyStopping"
      ]
    },
    {
      "cell_type": "code",
      "execution_count": 4,
      "metadata": {
        "id": "sQv3VpCaAhIu"
      },
      "outputs": [],
      "source": [
        "import pandas as pd \n",
        "import seaborn as sns \n",
        "from sklearn.model_selection import train_test_split\n",
        "from keras import callbacks\n",
        "from sklearn.metrics import precision_score, recall_score, confusion_matrix, classification_report, accuracy_score, f1_score"
      ]
    },
    {
      "cell_type": "code",
      "execution_count": 5,
      "metadata": {
        "id": "J79fM6VDAmcU"
      },
      "outputs": [],
      "source": [
        "import csv\n",
        "import math as m\n",
        "l1 = 50\n",
        "l2 = 40\n",
        "l3 = 20\n",
        "with open('Robot3btd.csv','w') as file:\n",
        "  writer = csv.writer(file)\n",
        "  writer.writerow(['tt1','tt2','tt3','Px','Py','T'])\n",
        "  for tt1 in range(-150,151,1):\n",
        "    for tt2 in range(-120,121,1):\n",
        "      for tt3 in range(-90,91,1): \n",
        "        Px = l1*m.cos(tt1) + l2*m.cos(tt1+tt2)+ l3*m.cos(tt1+tt2+tt3)\n",
        "        Py = l1*m.sin(tt1) + l2*m.sin(tt1+tt2)+ l3*m.sin(tt1+tt2+tt3)\n",
        "        T = tt1+tt2+tt3\n",
        "        writer.writerow([tt1,tt2,tt3,Px,Py,T])\n",
        "data=pd.read_csv('Robot3btd.csv')\n",
        "data\n",
        "x=data.drop(data.columns[:3],axis=1)\n",
        "y=data.drop(data.columns[3:],axis=1)\n",
        "x_train,x_test,y_train,y_test=train_test_split(x,y,test_size=0.25,random_state=10)"
      ]
    },
    {
      "cell_type": "code",
      "execution_count": 6,
      "metadata": {
        "colab": {
          "base_uri": "https://localhost:8080/"
        },
        "id": "HGec6q4lBM1v",
        "outputId": "db6d2da9-180a-42e8-b1e1-781af8871ea4"
      },
      "outputs": [
        {
          "output_type": "stream",
          "name": "stdout",
          "text": [
            "Model: \"sequential\"\n",
            "_________________________________________________________________\n",
            " Layer (type)                Output Shape              Param #   \n",
            "=================================================================\n",
            " dense (Dense)               (None, 512)               2048      \n",
            "                                                                 \n",
            " dense_1 (Dense)             (None, 500)               256500    \n",
            "                                                                 \n",
            " dense_2 (Dense)             (None, 300)               150300    \n",
            "                                                                 \n",
            " dense_3 (Dense)             (None, 100)               30100     \n",
            "                                                                 \n",
            " dense_4 (Dense)             (None, 3)                 303       \n",
            "                                                                 \n",
            "=================================================================\n",
            "Total params: 439,251\n",
            "Trainable params: 439,251\n",
            "Non-trainable params: 0\n",
            "_________________________________________________________________\n"
          ]
        }
      ],
      "source": [
        "model=Sequential()\n",
        "model.add(Dense(512,activation='relu',input_shape=(3,)))\n",
        "model.add(Dense(500,activation='relu'))\n",
        "model.add(Dense(300,activation='relu'))\n",
        "model.add(Dense(100,activation='relu'))\n",
        "model.add(Dense(3,activation='softmax'))\n",
        "model.summary()"
      ]
    },
    {
      "cell_type": "code",
      "execution_count": 7,
      "metadata": {
        "colab": {
          "base_uri": "https://localhost:8080/"
        },
        "id": "v9gbl7TeCJ62",
        "outputId": "905ea89f-a2bf-41c9-be1a-97b877e546ee"
      },
      "outputs": [
        {
          "output_type": "stream",
          "name": "stdout",
          "text": [
            "Epoch 1/2\n",
            "76934/76934 [==============================] - 1326s 17ms/step - loss: 5040.1777 - accuracy: 0.3038 - val_loss: 5040.5767 - val_accuracy: 0.2855\n",
            "Epoch 2/2\n",
            "76934/76934 [==============================] - 1489s 19ms/step - loss: 5040.2891 - accuracy: 0.2859 - val_loss: 5040.5767 - val_accuracy: 0.2855\n"
          ]
        }
      ],
      "source": [
        "from tensorflow.keras.optimizers import RMSprop\n",
        "from keras.callbacks import EarlyStopping\n",
        "model.compile(loss='mse',optimizer=RMSprop(),metrics=['accuracy'])\n",
        "history = model.fit(x_train,y_train,batch_size = 128,epochs=2,verbose=1,callbacks=[EarlyStopping(monitor='val_loss',patience=20)],validation_data = (x_test, y_test))"
      ]
    },
    {
      "cell_type": "code",
      "execution_count": 11,
      "metadata": {
        "colab": {
          "base_uri": "https://localhost:8080/",
          "height": 330
        },
        "id": "DVnRUjkZDZ5R",
        "outputId": "5876200d-fbdf-43f3-df01-6137bbb3ced9"
      },
      "outputs": [
        {
          "output_type": "stream",
          "name": "stdout",
          "text": [
            "Sai số kiểm tra:  5040.595703125\n",
            "Độ chính xác kiểm tra:  0.28548648953437805\n"
          ]
        },
        {
          "output_type": "display_data",
          "data": {
            "text/plain": [
              "<Figure size 432x288 with 1 Axes>"
            ],
            "image/png": "[encoded data removed]"
          },
          "metadata": {
            "needs_background": "light"
          }
        }
      ],
      "source": [
        "score=model.evaluate(x_test,y_test,verbose=0)\n",
        "print('Sai số kiểm tra: ',score[0])\n",
        "print('Độ chính xác kiểm tra: ',score[1])\n",
        "plt.plot(history.history['accuracy'])\n",
        "plt.plot(history.history['val_accuracy'])\n",
        "plt.title('Model accuracy')\n",
        "plt.ylabel('accuracy')\n",
        "plt.xlabel('Epochs')\n",
        "plt.legend(['train','Validation'])\n",
        "plt.show()"
      ]
    },
    {
      "cell_type": "code",
      "execution_count": 12,
      "metadata": {
        "id": "sDmsRNNCDg2S"
      },
      "outputs": [],
      "source": [
        "model.save('Robot3btd.h5')\n",
        "from tensorflow.keras.models import load_model\n",
        "model = load_model('Robot3btd.h5')"
      ]
    }
  ],
  "metadata": {
    "colab": {
      "name": "Robot_3BTD.ipynb",
      "provenance": [],
      "collapsed_sections": []
    },
    "kernelspec": {
      "display_name": "Python 3",
      "name": "python3"
    },
    "language_info": {
      "name": "python"
    }
  },
  "nbformat": 4,
  "nbformat_minor": 0
}